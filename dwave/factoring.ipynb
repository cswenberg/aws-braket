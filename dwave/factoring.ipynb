{
 "cells": [
  {
   "cell_type": "code",
   "execution_count": 17,
   "metadata": {},
   "outputs": [],
   "source": [
    "import json\n",
    "from braket.aws import AwsDevice\n",
    "from braket.ocean_plugin import BraketSampler, BraketDWaveSampler\n",
    "from dimod import ExactSolver\n",
    "from dwave.system.composites import EmbeddingComposite\n",
    "from dwave.system import FixedEmbeddingComposite\n",
    "import dwavebinarycsp as dbc\n",
    "from helpers.embedding import embeddings\n",
    "from helpers import draw\n",
    "\n",
    "# 0. Connect to AWS\n",
    "\n",
    "bucket = 'amazon-braket-7481abb5f17b'\n",
    "prefix = 'dwave'\n",
    "s3_path = (bucket, prefix)\n",
    "\n",
    "device = AwsDevice('arn:aws:braket:::device/qpu/d-wave/DW_2000Q_6')"
   ]
  },
  {
   "cell_type": "code",
   "execution_count": 4,
   "metadata": {},
   "outputs": [
    {
     "name": "stdout",
     "output_type": "stream",
     "text": [
      "Constraint.from_configurations(frozenset({(1, 0, 0), (0, 0, 0), (1, 1, 1), (0, 1, 0)}), ('a0', 'b0', 'p0'), Vartype.BINARY, name='AND(a0, b0) = p0')\n"
     ]
    }
   ],
   "source": [
    "# 1. Express factoring as multiplication circuit\n",
    "\n",
    "csp = dbc.factories.multiplication_circuit(3)\n",
    "print(next(iter(csp.constraints)))"
   ]
  },
  {
   "cell_type": "code",
   "execution_count": 5,
   "metadata": {},
   "outputs": [
    {
     "name": "stdout",
     "output_type": "stream",
     "text": [
      "BQM has 27 variables: \n",
      "['a0', 'b0', 'p0', 'b1', 'and0,1', 'b2', 'and0,2', 'a1', 'and1,0', 'p1', 'carry1,0', 'and1,1', 'sum1,1', 'carry1,1', 'and1,2', 'a2', 'and2,0', 'p2', 'carry2,0', 'and2,1', 'sum2,1', 'carry2,1', 'and2,2', 'p3', 'carry3,0', 'p4', 'p5']\n"
     ]
    }
   ],
   "source": [
    "# 2. Convert CSP to BQM\n",
    "\n",
    "bqm = dbc.stitch(csp, min_classical_gap=.1)\n",
    "\n",
    "print(\"BQM has {} variables: \\n{}\".format(len(bqm.variables), list(bqm.variables)))"
   ]
  },
  {
   "cell_type": "code",
   "execution_count": 6,
   "metadata": {},
   "outputs": [
    {
     "name": "stdout",
     "output_type": "stream",
     "text": [
      "BQM has 21 non-fixed variables: \n",
      "['a0', 'b0', 'b1', 'and0,1', 'b2', 'and0,2', 'a1', 'and1,0', 'carry1,0', 'and1,1', 'sum1,1', 'carry1,1', 'and1,2', 'a2', 'and2,0', 'carry2,0', 'and2,1', 'sum2,1', 'carry2,1', 'and2,2', 'carry3,0']\n"
     ]
    }
   ],
   "source": [
    "P = 35\n",
    "bP = '{:06b}'.format(P)\n",
    "p_vars = ['p0', 'p1', 'p2', 'p3', 'p4', 'p5']\n",
    "\n",
    "fixed_variables = dict(zip(reversed(p_vars), bP))\n",
    "\n",
    "for var, v in fixed_variables.items():\n",
    "    bqm.fix_variable(var, int(v))\n",
    "\n",
    "print(\"BQM has {} non-fixed variables: \\n{}\".format(len(bqm.variables), list(bqm.variables)))"
   ]
  },
  {
   "cell_type": "code",
   "execution_count": 7,
   "metadata": {},
   "outputs": [
    {
     "name": "stdout",
     "output_type": "stream",
     "text": [
      "Mapping from BQM variables to qubits for the Dwave system:\n",
      "\n",
      "\t{} {'and2,1': (590, 582, 450, 578), 'sum1,1': (469, 464, 592, 720), 'carry1,0': (727, 851, 723), 'and2,2': (577, 449, 455, 448), 'a1': (707, 711, 719), 'and2,0': (709, 717, 725), 'and0,1': (854, 843, 846), 'a0': (585, 841, 713), 'and0,2': (456, 597, 584, 589), 'carry2,1': (457, 454, 462), 'carry2,0': (722, 594, 466), 'sum2,1': (452, 467, 468, 460), 'a2': (710, 704, 576), 'b0': (840, 712, 718), 'b1': (706, 834, 842, 839, 847), 'b2': (579, 583, 591), 'and1,2': (715, 587, 459), 'carry3,0': (471, 463), 'and1,0': (835, 837, 853, 845), 'and1,1': (586, 724, 716, 714), 'carry1,1': (458, 453, 461)}\n"
     ]
    }
   ],
   "source": [
    "# 3. Submit to Quantum Computer\n",
    "\n",
    "sampler = BraketDWaveSampler(s3_path,'arn:aws:braket:::device/qpu/d-wave/DW_2000Q_6')\n",
    "\n",
    "sampler_comp = FixedEmbeddingComposite(sampler, embeddings['DW_2000Q_6'])\n",
    "\n",
    "print(\"Mapping from BQM variables to qubits for the Dwave system:\\n\\n\\t{}\", sampler_comp.embedding)"
   ]
  },
  {
   "cell_type": "code",
   "execution_count": 8,
   "metadata": {},
   "outputs": [
    {
     "name": "stdout",
     "output_type": "stream",
     "text": [
      "Best solution found: \n",
      " {'a0': 1, 'a1': 0, 'a2': 1, 'and0,1': 1, 'and0,2': 1, 'and1,0': 0, 'and1,1': 0, 'and1,2': 0, 'and2,0': 1, 'and2,1': 1, 'and2,2': 1, 'b0': 1, 'b1': 1, 'b2': 1, 'carry1,0': 0, 'carry1,1': 0, 'carry2,0': 1, 'carry2,1': 0, 'carry3,0': 1, 'sum1,1': 1, 'sum2,1': 1}\n"
     ]
    }
   ],
   "source": [
    "# import multiprocessing\n",
    "\n",
    "sampleset = sampler_comp.sample(bqm, num_reads=100)\n",
    "\n",
    "\n",
    "print(\"Best solution found: \\n\", sampleset.first.sample)"
   ]
  },
  {
   "cell_type": "code",
   "execution_count": 13,
   "metadata": {},
   "outputs": [
    {
     "name": "stdout",
     "output_type": "stream",
     "text": [
      "solution: 35 = 5*7\n"
     ]
    }
   ],
   "source": [
    "from helpers.convert import to_base_ten\n",
    "\n",
    "a, b = to_base_ten(sampleset.first.sample)\n",
    "\n",
    "print(\"solution: {} = {}*{}\".format(P, a, b))"
   ]
  },
  {
   "cell_type": "code",
   "execution_count": 14,
   "metadata": {},
   "outputs": [
    {
     "data": {
      "text/plain": [
       "OrderedDict([((5, 7), -0.0),\n",
       "             ((7, 5), -0.0),\n",
       "             ((7, 7), 2.0),\n",
       "             ((7, 3), 2.0),\n",
       "             ((3, 7), 2.0),\n",
       "             ((3, 5), 2.0),\n",
       "             ((5, 3), 2.0),\n",
       "             ((5, 5), 2.0),\n",
       "             ((7, 6), 3.0),\n",
       "             ((6, 3), 3.0),\n",
       "             ((3, 6), 3.0),\n",
       "             ((3, 3), 3.0),\n",
       "             ((1, 7), 3.0),\n",
       "             ((7, 1), 3.0),\n",
       "             ((3, 1), 3.0),\n",
       "             ((1, 3), 6.0)])"
      ]
     },
     "execution_count": 14,
     "metadata": {},
     "output_type": "execute_result"
    }
   ],
   "source": [
    "from collections import OrderedDict\n",
    "\n",
    "def response_to_dict(sampleset):\n",
    "    results_dict = OrderedDict()\n",
    "    for sample, energy in sampleset.data(['sample', 'energy']):\n",
    "        a, b = to_base_ten(sample)\n",
    "        if (a, b) not in results_dict:\n",
    "            results_dict[(a, b)] = round(energy, 2)\n",
    "            \n",
    "    return results_dict\n",
    "\n",
    "results = response_to_dict(sampleset)\n",
    "results"
   ]
  },
  {
   "cell_type": "code",
   "execution_count": 18,
   "metadata": {},
   "outputs": [
    {
     "data": {
      "text/html": [
       "\n",
       "<div class=\"bk-root\">\n",
       "    <div class=\"bk-plotdiv\" id=\"4acf1ef8-9923-45e2-b6a0-28dcf09bbba1\"></div>\n",
       "</div>"
      ]
     },
     "metadata": {},
     "output_type": "display_data"
    },
    {
     "data": {
      "application/javascript": [
       "(function(root) {\n",
       "  function embed_document(root) {\n",
       "    \n",
       "  var docs_json = {\"3f8673b2-0dde-4f06-bf50-5378d74160af\":{\"roots\":{\"references\":[{\"attributes\":{},\"id\":\"bb4a60f5-8e68-4173-bc60-c863bbeb3b14\",\"type\":\"CategoricalScale\"},{\"attributes\":{},\"id\":\"18bbc75c-8408-47ef-8737-bbef34a0b8d3\",\"type\":\"BasicTicker\"},{\"attributes\":{\"fill_alpha\":{\"value\":0.1},\"fill_color\":{\"value\":\"#1f77b4\"},\"line_alpha\":{\"value\":0.1},\"line_color\":{\"value\":\"#1f77b4\"},\"x\":{\"field\":\"x\"},\"y\":{\"field\":\"y\"}},\"id\":\"9aac3750-d73e-4546-b5d5-6ff96b0ef8df\",\"type\":\"Circle\"},{\"attributes\":{\"below\":[{\"id\":\"72cc9043-1481-4ff8-9d31-9bc3e8e31389\",\"type\":\"CategoricalAxis\"}],\"left\":[{\"id\":\"1ab150d7-d176-4882-8551-d8fd9ae009e4\",\"type\":\"LinearAxis\"}],\"plot_height\":250,\"renderers\":[{\"id\":\"72cc9043-1481-4ff8-9d31-9bc3e8e31389\",\"type\":\"CategoricalAxis\"},{\"id\":\"676a7678-d009-460d-bced-19b38c7f545e\",\"type\":\"Grid\"},{\"id\":\"1ab150d7-d176-4882-8551-d8fd9ae009e4\",\"type\":\"LinearAxis\"},{\"id\":\"694027cd-8399-4083-aa19-7116eaaee28a\",\"type\":\"Grid\"},{\"id\":\"17247811-9025-46f9-9e23-7dbd49bffc45\",\"type\":\"GlyphRenderer\"}],\"title\":{\"id\":\"9b7bc20f-8081-472d-88f4-fe843bdcca1c\",\"type\":\"Title\"},\"toolbar\":{\"id\":\"2629d08c-1a3d-4942-b412-a20936121586\",\"type\":\"Toolbar\"},\"toolbar_location\":null,\"x_range\":{\"id\":\"d47c8b96-ed14-49f2-8286-4a76cc9dce8c\",\"type\":\"FactorRange\"},\"x_scale\":{\"id\":\"bb4a60f5-8e68-4173-bc60-c863bbeb3b14\",\"type\":\"CategoricalScale\"},\"y_range\":{\"id\":\"2b0b475d-d673-42f6-a222-39832dc3a8f6\",\"type\":\"DataRange1d\"},\"y_scale\":{\"id\":\"29fd9c26-b1b3-4d8f-8006-dc3ecea621b4\",\"type\":\"LinearScale\"}},\"id\":\"243ecd71-7758-4000-a34a-49e75d0a7e34\",\"subtype\":\"Figure\",\"type\":\"Plot\"},{\"attributes\":{},\"id\":\"3172ec52-77c3-4b3d-90e3-8cdb1d34bcbc\",\"type\":\"CategoricalTickFormatter\"},{\"attributes\":{\"source\":{\"id\":\"376739c0-683b-4e37-bff9-aa38393eb41d\",\"type\":\"ColumnDataSource\"}},\"id\":\"f130ed1d-0293-4fa7-b6b5-bf2ea49a46ea\",\"type\":\"CDSView\"},{\"attributes\":{\"grid_line_color\":{\"value\":null},\"plot\":{\"id\":\"243ecd71-7758-4000-a34a-49e75d0a7e34\",\"subtype\":\"Figure\",\"type\":\"Plot\"},\"ticker\":{\"id\":\"b2ef41d4-6db1-4d28-868c-261cd7b64977\",\"type\":\"CategoricalTicker\"}},\"id\":\"676a7678-d009-460d-bced-19b38c7f545e\",\"type\":\"Grid\"},{\"attributes\":{\"plot\":null,\"text\":\"Energy of samples\"},\"id\":\"9b7bc20f-8081-472d-88f4-fe843bdcca1c\",\"type\":\"Title\"},{\"attributes\":{\"callback\":null,\"column_names\":[\"x\",\"y\"],\"data\":{\"x\":[\"(5, 7)\",\"(7, 5)\",\"(7, 7)\",\"(7, 3)\",\"(3, 7)\",\"(3, 5)\",\"(5, 3)\",\"(5, 5)\",\"(7, 6)\",\"(6, 3)\",\"(3, 6)\",\"(3, 3)\",\"(1, 7)\",\"(7, 1)\",\"(3, 1)\",\"(1, 3)\"],\"y\":[-0.0,-0.0,2.0,2.0,2.0,2.0,2.0,2.0,3.0,3.0,3.0,3.0,3.0,3.0,3.0,6.0]},\"selected\":null,\"selection_policy\":null},\"id\":\"376739c0-683b-4e37-bff9-aa38393eb41d\",\"type\":\"ColumnDataSource\"},{\"attributes\":{\"callback\":null,\"factors\":[\"(5, 7)\",\"(7, 5)\",\"(7, 7)\",\"(7, 3)\",\"(3, 7)\",\"(3, 5)\",\"(5, 3)\",\"(5, 5)\",\"(7, 6)\",\"(6, 3)\",\"(3, 6)\",\"(3, 3)\",\"(1, 7)\",\"(7, 1)\",\"(3, 1)\",\"(1, 3)\"]},\"id\":\"d47c8b96-ed14-49f2-8286-4a76cc9dce8c\",\"type\":\"FactorRange\"},{\"attributes\":{},\"id\":\"9117be8b-8208-4a1c-9d8a-00cca8216671\",\"type\":\"BasicTickFormatter\"},{\"attributes\":{\"data_source\":{\"id\":\"376739c0-683b-4e37-bff9-aa38393eb41d\",\"type\":\"ColumnDataSource\"},\"glyph\":{\"id\":\"6bcaf6cf-3a51-4064-8e4a-55948dedc893\",\"type\":\"Circle\"},\"hover_glyph\":null,\"muted_glyph\":null,\"nonselection_glyph\":{\"id\":\"9aac3750-d73e-4546-b5d5-6ff96b0ef8df\",\"type\":\"Circle\"},\"selection_glyph\":null,\"view\":{\"id\":\"f130ed1d-0293-4fa7-b6b5-bf2ea49a46ea\",\"type\":\"CDSView\"}},\"id\":\"17247811-9025-46f9-9e23-7dbd49bffc45\",\"type\":\"GlyphRenderer\"},{\"attributes\":{\"formatter\":{\"id\":\"3172ec52-77c3-4b3d-90e3-8cdb1d34bcbc\",\"type\":\"CategoricalTickFormatter\"},\"major_label_orientation\":1.5707963267948966,\"plot\":{\"id\":\"243ecd71-7758-4000-a34a-49e75d0a7e34\",\"subtype\":\"Figure\",\"type\":\"Plot\"},\"ticker\":{\"id\":\"b2ef41d4-6db1-4d28-868c-261cd7b64977\",\"type\":\"CategoricalTicker\"}},\"id\":\"72cc9043-1481-4ff8-9d31-9bc3e8e31389\",\"type\":\"CategoricalAxis\"},{\"attributes\":{\"callback\":null},\"id\":\"2b0b475d-d673-42f6-a222-39832dc3a8f6\",\"type\":\"DataRange1d\"},{\"attributes\":{\"active_drag\":\"auto\",\"active_inspect\":\"auto\",\"active_scroll\":\"auto\",\"active_tap\":\"auto\"},\"id\":\"2629d08c-1a3d-4942-b412-a20936121586\",\"type\":\"Toolbar\"},{\"attributes\":{\"dimension\":1,\"plot\":{\"id\":\"243ecd71-7758-4000-a34a-49e75d0a7e34\",\"subtype\":\"Figure\",\"type\":\"Plot\"},\"ticker\":{\"id\":\"18bbc75c-8408-47ef-8737-bbef34a0b8d3\",\"type\":\"BasicTicker\"}},\"id\":\"694027cd-8399-4083-aa19-7116eaaee28a\",\"type\":\"Grid\"},{\"attributes\":{\"fill_color\":{\"value\":\"#1f77b4\"},\"line_color\":{\"value\":\"#1f77b4\"},\"x\":{\"field\":\"x\"},\"y\":{\"field\":\"y\"}},\"id\":\"6bcaf6cf-3a51-4064-8e4a-55948dedc893\",\"type\":\"Circle\"},{\"attributes\":{\"formatter\":{\"id\":\"9117be8b-8208-4a1c-9d8a-00cca8216671\",\"type\":\"BasicTickFormatter\"},\"plot\":{\"id\":\"243ecd71-7758-4000-a34a-49e75d0a7e34\",\"subtype\":\"Figure\",\"type\":\"Plot\"},\"ticker\":{\"id\":\"18bbc75c-8408-47ef-8737-bbef34a0b8d3\",\"type\":\"BasicTicker\"}},\"id\":\"1ab150d7-d176-4882-8551-d8fd9ae009e4\",\"type\":\"LinearAxis\"},{\"attributes\":{},\"id\":\"b2ef41d4-6db1-4d28-868c-261cd7b64977\",\"type\":\"CategoricalTicker\"},{\"attributes\":{},\"id\":\"29fd9c26-b1b3-4d8f-8006-dc3ecea621b4\",\"type\":\"LinearScale\"}],\"root_ids\":[\"243ecd71-7758-4000-a34a-49e75d0a7e34\"]},\"title\":\"Bokeh Application\",\"version\":\"0.12.15\"}};\n",
       "  var render_items = [{\"docid\":\"3f8673b2-0dde-4f06-bf50-5378d74160af\",\"elementid\":\"4acf1ef8-9923-45e2-b6a0-28dcf09bbba1\",\"modelid\":\"243ecd71-7758-4000-a34a-49e75d0a7e34\"}];\n",
       "  root.Bokeh.embed.embed_items_notebook(docs_json, render_items);\n",
       "\n",
       "  }\n",
       "  if (root.Bokeh !== undefined) {\n",
       "    embed_document(root);\n",
       "  } else {\n",
       "    var attempts = 0;\n",
       "    var timer = setInterval(function(root) {\n",
       "      if (root.Bokeh !== undefined) {\n",
       "        embed_document(root);\n",
       "        clearInterval(timer);\n",
       "      }\n",
       "      attempts++;\n",
       "      if (attempts > 100) {\n",
       "        console.log(\"Bokeh: ERROR: Unable to run BokehJS code because BokehJS library is missing\")\n",
       "        clearInterval(timer);\n",
       "      }\n",
       "    }, 10, root)\n",
       "  }\n",
       "})(window);"
      ],
      "application/vnd.bokehjs_exec.v0+json": ""
     },
     "metadata": {
      "application/vnd.bokehjs_exec.v0+json": {
       "id": "243ecd71-7758-4000-a34a-49e75d0a7e34"
      }
     },
     "output_type": "display_data"
    }
   ],
   "source": [
    "draw.energy_of(results)"
   ]
  },
  {
   "cell_type": "code",
   "execution_count": null,
   "metadata": {},
   "outputs": [],
   "source": []
  }
 ],
 "metadata": {
  "kernelspec": {
   "display_name": "Python 3",
   "language": "python",
   "name": "python3"
  },
  "language_info": {
   "codemirror_mode": {
    "name": "ipython",
    "version": 3
   },
   "file_extension": ".py",
   "mimetype": "text/x-python",
   "name": "python",
   "nbconvert_exporter": "python",
   "pygments_lexer": "ipython3",
   "version": "3.9.2"
  }
 },
 "nbformat": 4,
 "nbformat_minor": 4
}
