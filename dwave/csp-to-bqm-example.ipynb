{
 "cells": [
  {
   "cell_type": "code",
   "execution_count": 7,
   "metadata": {},
   "outputs": [],
   "source": [
    "import json\n",
    "from braket.aws import AwsDevice\n",
    "from braket.ocean_plugin import BraketSampler, BraketDWaveSampler\n",
    "from dimod import ExactSolver\n",
    "from dwave.system.composites import EmbeddingComposite\n",
    "import dwavebinarycsp as dbc\n",
    "\n",
    "\n",
    "# 0. Connect to AWS\n",
    "\n",
    "bucket = 'amazon-braket-7481abb5f17b'\n",
    "prefix = 'dwave'\n",
    "s3_path = (bucket, prefix)\n",
    "\n",
    "device = AwsDevice('arn:aws:braket:::device/qpu/d-wave/DW_2000Q_6')"
   ]
  },
  {
   "cell_type": "code",
   "execution_count": 6,
   "metadata": {},
   "outputs": [
    {
     "data": {
      "text/plain": [
       "True"
      ]
     },
     "execution_count": 6,
     "metadata": {},
     "output_type": "execute_result"
    }
   ],
   "source": [
    "# 1. Express problem as CSP with boolean logic\n",
    "## Problem: x3 = x1 ∧ x2\n",
    "\n",
    "and_gate = dbc.factories.and_gate(['x1', 'x2', 'x3'])\n",
    "csp = dbc.ConstraintSatisfactionProblem('BINARY')\n",
    "csp.add_constraint(and_gate)\n",
    "\n",
    "csp.check({'x1': 1, 'x2': 1, 'x3': 1})  # confirm boolean expression performs as intended"
   ]
  },
  {
   "cell_type": "code",
   "execution_count": 5,
   "metadata": {},
   "outputs": [
    {
     "name": "stdout",
     "output_type": "stream",
     "text": [
      "Coefficients\n",
      "LINEAR:    \t{'x1': -0.0, 'x2': -0.0, 'x3': 6.0}\n",
      "QUADRATIC: \t{('x1', 'x2'): 2.0, ('x1', 'x3'): -4.0, ('x2', 'x3'): -4.0}\n"
     ]
    }
   ],
   "source": [
    "# 2. Convert CSP to a BQM\n",
    "\n",
    "bqm = dbc.stitch(csp)\n",
    "bqm.remove_offset()\n",
    "\n",
    "print('Coefficients')\n",
    "print(\"LINEAR:    \\t{}\".format({key: round(val, 2) for key, val in bqm.linear.items()}))\n",
    "print(\"QUADRATIC: \\t{}\".format({key: round(val, 2) for key, val in bqm.quadratic.items()}))"
   ]
  },
  {
   "cell_type": "code",
   "execution_count": 8,
   "metadata": {},
   "outputs": [
    {
     "name": "stdout",
     "output_type": "stream",
     "text": [
      "  x1 x2 x3 energy num_oc.\n",
      "5  1  1  1   -0.0       1\n",
      "3  0  1  0   -0.0       1\n",
      "1  1  0  0   -0.0       1\n",
      "0  0  0  0    0.0       1\n",
      "6  1  0  1    2.0       1\n",
      "4  0  1  1    2.0       1\n",
      "2  1  1  0    2.0       1\n",
      "7  0  0  1    6.0       1\n",
      "['BINARY', 8 rows, 8 samples, 3 variables]\n"
     ]
    }
   ],
   "source": [
    "# 3. Solve by Minimization\n",
    "\n",
    "solver = ExactSolver()\n",
    "solution = solver.sample(bqm)\n",
    "\n",
    "print(solution)"
   ]
  }
 ],
 "metadata": {
  "kernelspec": {
   "display_name": "Python 3",
   "language": "python",
   "name": "python3"
  },
  "language_info": {
   "codemirror_mode": {
    "name": "ipython",
    "version": 3
   },
   "file_extension": ".py",
   "mimetype": "text/x-python",
   "name": "python",
   "nbconvert_exporter": "python",
   "pygments_lexer": "ipython3",
   "version": "3.9.0"
  }
 },
 "nbformat": 4,
 "nbformat_minor": 4
}
